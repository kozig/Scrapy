{
 "cells": [
  {
   "cell_type": "code",
   "execution_count": 43,
   "metadata": {},
   "outputs": [],
   "source": [
    "import requests\n",
    "import time\n",
    "import os\n",
    "\n",
    "from selenium import webdriver\n",
    "from webdriver_manager.chrome import ChromeDriverManager\n",
    "\n",
    "from selenium.webdriver.common.by import By\n",
    "from selenium.webdriver.support import expected_conditions as EC\n",
    "from selenium.webdriver.support.ui import WebDriverWait\n",
    "\n",
    "from bs4 import BeautifulSoup\n",
    "\n",
    "import pandas as pd"
   ]
  },
  {
   "cell_type": "code",
   "execution_count": 44,
   "metadata": {},
   "outputs": [
    {
     "name": "stdout",
     "output_type": "stream",
     "text": [
      "NT\n"
     ]
    }
   ],
   "source": [
    "# Create Chrome options\n",
    "chrome_options = webdriver.ChromeOptions()\n",
    "# chrome_options.add_argument(\"--headless\") # This site cannot be scraped headless.\n",
    "driver = webdriver.Chrome(options=chrome_options)\n",
    "\n",
    "# Province list to iterate through to make it less resource intense.\n",
    "prov_list = {1: \"ON\", 2: \"BC\", 3: \"MB\",\n",
    "             4: \"AB\", 5: \"NB\", 6: \"NL\",\n",
    "             7: \"NT\", 8: \"NS\", 9: \"NU\", \n",
    "             10: \"PE\", 11: \"QC\", 12: \"SK\", \n",
    "             13: \"YT\"\n",
    "            }\n",
    "\n",
    "# For testing.\n",
    "prov = prov_list[7]\n",
    "print(prov)"
   ]
  },
  {
   "cell_type": "code",
   "execution_count": 45,
   "metadata": {},
   "outputs": [],
   "source": [
    "driver.get(f\"https://www.jobbank.gc.ca/jobsearch/jobsearch?sort=M&fprov={prov}\")"
   ]
  },
  {
   "cell_type": "code",
   "execution_count": null,
   "metadata": {},
   "outputs": [],
   "source": [
    "wait = WebDriverWait(driver, 2)\n",
    "click_count = 0\n",
    "button_present = driver.find_element(By.ID, 'moreresultbutton').is_displayed()\n",
    "print(button_present)  \n",
    "# Click the \"more results\", button to load all the listings to the page.\n",
    "while button_present:\n",
    "    try:\n",
    "        print('Click attempt')\n",
    "        button = wait.until(EC.element_to_be_clickable((By.ID, \"moreresultbutton\")))\n",
    "        button.click()\n",
    "        time.sleep(2)\n",
    "        click_count += 1\n",
    "        print(f'clicked: {click_count} times.')\n",
    "        button_present = driver.find_element(By.ID, 'moreresultbutton').is_displayed()\n",
    "    except:\n",
    "        print(\"All done!\")\n",
    "        break"
   ]
  },
  {
   "cell_type": "code",
   "execution_count": 47,
   "metadata": {},
   "outputs": [
    {
     "data": {
      "text/plain": [
       "177"
      ]
     },
     "execution_count": 47,
     "metadata": {},
     "output_type": "execute_result"
    }
   ],
   "source": [
    "soup = BeautifulSoup(driver.page_source, 'html.parser')\n",
    "main_box = soup.findAll(\"article\") # Find all the job listings on the page.\n",
    "len(main_box)"
   ]
  },
  {
   "cell_type": "code",
   "execution_count": 48,
   "metadata": {},
   "outputs": [],
   "source": [
    "data_list = [] # Store job listing data for further processing\n",
    "\n",
    "# Iterate through all job listings.\n",
    "for box in main_box:\n",
    "    temp_dict = {} # Dict of job posting.\n",
    "    temp_dict['job_title'] = box.find(\"span\", {\"class\": \"noctitle\"}).text.replace('\\n', '').replace('\\t', '').strip()\n",
    "    temp_dict['business'] =  box.find(\"li\", {\"class\": \"business\"}).text\n",
    "    temp_dict['location'] =  box.find(\"li\", {\"class\": \"location\"}).text.replace('\\n', '').replace('\\t', '').strip()\n",
    "    temp_dict['salary'] =    box.find(\"li\", {\"class\": \"salary\"}).text.replace('\\n', '').replace('\\t', '').strip()\n",
    "    temp_dict['link'] =      box.find(\"a\", {\"class\": \"resultJobItem\"})[\"href\"]\n",
    "    temp_dict['date'] =      box.find(\"li\", {\"class\": \"date\"}).text\n",
    "    \n",
    "    data_list.append(temp_dict)"
   ]
  },
  {
   "cell_type": "code",
   "execution_count": 49,
   "metadata": {},
   "outputs": [],
   "source": [
    "# End selenium session.        \n",
    "driver.close()"
   ]
  },
  {
   "cell_type": "code",
   "execution_count": 50,
   "metadata": {},
   "outputs": [
    {
     "data": {
      "text/plain": [
       "177"
      ]
     },
     "execution_count": 50,
     "metadata": {},
     "output_type": "execute_result"
    }
   ],
   "source": [
    "df = pd.DataFrame(data_list)\n",
    "len(data_list)"
   ]
  },
  {
   "cell_type": "code",
   "execution_count": 51,
   "metadata": {},
   "outputs": [],
   "source": [
    "compresion_opts = dict(method='zip', archive_name=f'out-{prov}.csv')\n",
    "# make folder and output to it\n",
    "os.makedirs('output', exist_ok=True)\n",
    "df.to_csv(f'output/out-{prov}.zip', compression=compresion_opts)"
   ]
  }
 ],
 "metadata": {
  "kernelspec": {
   "display_name": "scripts",
   "language": "python",
   "name": "python3"
  },
  "language_info": {
   "codemirror_mode": {
    "name": "ipython",
    "version": 3
   },
   "file_extension": ".py",
   "mimetype": "text/x-python",
   "name": "python",
   "nbconvert_exporter": "python",
   "pygments_lexer": "ipython3",
   "version": "3.11.2"
  }
 },
 "nbformat": 4,
 "nbformat_minor": 2
}
